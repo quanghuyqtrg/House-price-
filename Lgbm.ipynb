{
 "cells": [
  {
   "cell_type": "code",
   "execution_count": 1,
   "id": "initial_id",
   "metadata": {
    "collapsed": true,
    "ExecuteTime": {
     "end_time": "2024-09-24T14:35:21.914524Z",
     "start_time": "2024-09-24T14:35:16.408990Z"
    }
   },
   "outputs": [],
   "source": [
    "import numpy as np\n",
    "import pandas as pd\n",
    "import unicodedata\n",
    "import re\n",
    "import tensorflow as tf \n",
    "from sklearn.model_selection import train_test_split\n",
    "from sklearn.preprocessing import MinMaxScaler\n",
    "from sklearn.metrics import mean_squared_error\n",
    "from tensorflow.keras.layers import LSTM, Dense, Dropout\n",
    "from tensorflow.keras.initializers import GlorotUniform\n",
    "from tensorflow.keras.regularizers import l2\n",
    "from tensorflow.keras.optimizers import Adam\n"
   ]
  },
  {
   "cell_type": "code",
   "outputs": [],
   "source": [
    "data = pd.read_csv('output.csv')\n"
   ],
   "metadata": {
    "collapsed": false,
    "ExecuteTime": {
     "end_time": "2024-09-24T14:35:23.783218Z",
     "start_time": "2024-09-24T14:35:23.772353Z"
    }
   },
   "id": "ac7aa35f1a2046ff",
   "execution_count": 2
  },
  {
   "cell_type": "code",
   "outputs": [
    {
     "name": "stdout",
     "output_type": "stream",
     "text": [
      "   province  district                   street  price_unit  price_value  \\\n",
      "0         1         5  Mặt phố C1 TT Nghĩa Tân           1         5.50   \n",
      "1         1         5                  Yên Hoà           1         8.58   \n",
      "2         1         5                 Cầu Giấy           1         8.65   \n",
      "3         1         5              Hồ Tùng Mậu           1        28.50   \n",
      "4         1         5                 Cầu Giấy           1         8.90   \n",
      "\n",
      "   price_absolute   area  type  front  room  toilet  floor  \\\n",
      "0          5500.0   70.0     1    7.0     2       2      1   \n",
      "1          8580.0   45.0     1    5.0     5       4      4   \n",
      "2          8650.0   43.0     1    3.6     6       1      5   \n",
      "3         28500.0  100.0     1    6.9    29       0      8   \n",
      "4          8900.0   35.0     1    3.4     6       2      5   \n",
      "\n",
      "                    attributes  Chung cư  Dòng tiền  Không rõ  Kinh doanh  \\\n",
      "0  Ô tô, Kinh doanh, Dòng tiền         0          1         0           1   \n",
      "1                         Ô tô         0          0         0           0   \n",
      "2                     Không rõ         0          0         1           0   \n",
      "3   Ô tô, Dòng tiền, Thang máy         0          1         0           0   \n",
      "4                     Không rõ         0          0         1           0   \n",
      "\n",
      "   Mặt phố  Thang máy  Ô tô  \n",
      "0        0          0     1  \n",
      "1        0          0     1  \n",
      "2        0          0     0  \n",
      "3        0          1     1  \n",
      "4        0          0     0  \n"
     ]
    }
   ],
   "source": [
    "# 1. Loại bỏ khoảng trắng và điền NaN\n",
    "data['attributes'] = data['attributes'].str.strip()\n",
    "data['attributes'] = data['attributes'].fillna('Không rõ')  # Loại bỏ inplace=True\n",
    "\n",
    "# 2. Mã hóa các thuộc tính\n",
    "attributes_dummies = data['attributes'].str.get_dummies(sep=', ')\n",
    "\n",
    "# 3. Ghép các cột đã mã hóa vào DataFrame gốc\n",
    "data = pd.concat([data, attributes_dummies], axis=1)\n",
    "\n",
    "# 4. Kiểm tra kết quả\n",
    "print(data.head())\n",
    "\n"
   ],
   "metadata": {
    "collapsed": false,
    "ExecuteTime": {
     "end_time": "2024-09-24T14:35:32.212169Z",
     "start_time": "2024-09-24T14:35:32.194436Z"
    }
   },
   "id": "a93267a24ea49d0",
   "execution_count": 3
  },
  {
   "cell_type": "code",
   "outputs": [
    {
     "name": "stdout",
     "output_type": "stream",
     "text": [
      "   province  district                   street  price_unit  price_value  \\\n",
      "0         1         5  Mặt phố C1 TT Nghĩa Tân           1         5.50   \n",
      "1         1         5                  Yên Hoà           1         8.58   \n",
      "2         1         5                 Cầu Giấy           1         8.65   \n",
      "3         1         5              Hồ Tùng Mậu           1        28.50   \n",
      "4         1         5                 Cầu Giấy           1         8.90   \n",
      "\n",
      "   price_absolute   area  type  front  room  ...  street_truong cong giai  \\\n",
      "0          5500.0   70.0     1    7.0     2  ...                    False   \n",
      "1          8580.0   45.0     1    5.0     5  ...                    False   \n",
      "2          8650.0   43.0     1    3.6     6  ...                    False   \n",
      "3         28500.0  100.0     1    6.9    29  ...                    False   \n",
      "4          8900.0   35.0     1    3.4     6  ...                    False   \n",
      "\n",
      "   street_tt van cong mai dich street_tt van hoa nghe thuat mai dich  \\\n",
      "0                        False                                 False   \n",
      "1                        False                                 False   \n",
      "2                        False                                 False   \n",
      "3                        False                                 False   \n",
      "4                        False                                 False   \n",
      "\n",
      "   street_tu mo  street_uong 800a  street_vo chi cong  street_xuan thuy  \\\n",
      "0         False             False               False             False   \n",
      "1         False             False               False             False   \n",
      "2         False             False               False             False   \n",
      "3         False             False               False             False   \n",
      "4         False             False               False             False   \n",
      "\n",
      "   street_xx cau giay  street_xx tran thai tong  street_yen hoa  \n",
      "0               False                     False           False  \n",
      "1               False                     False            True  \n",
      "2               False                     False           False  \n",
      "3               False                     False           False  \n",
      "4               False                     False           False  \n",
      "\n",
      "[5 rows x 170 columns]\n"
     ]
    }
   ],
   "source": [
    " # Hàm chuẩn hóa tên đường\n",
    "def normalize_street_name(street_name):\n",
    "    # Loại bỏ dấu tiếng Việt\n",
    "    street_name = unicodedata.normalize('NFKD', street_name).encode('ascii', 'ignore').decode('utf-8')\n",
    "    # Chuyển thành chữ thường\n",
    "    street_name = street_name.lower()\n",
    "    # Loại bỏ các ký tự đặc biệt và khoảng trắng thừa\n",
    "    street_name = re.sub(r'[^a-z0-9\\s]', '', street_name)\n",
    "    street_name = re.sub(r'\\s+', ' ', street_name).strip()\n",
    "    return street_name\n",
    "\n",
    "# Áp dụng hàm chuẩn hóa lên cột 'street'\n",
    "data['street_normalized'] = data['street'].apply(normalize_street_name)\n",
    "\n",
    "# Thực hiện one-hot encoding sau khi chuẩn hóa\n",
    "street_encoded = pd.get_dummies(data['street_normalized'], prefix='street')\n",
    "\n",
    "# Nối cột mới với DataFrame gốc\n",
    "data = pd.concat([data, street_encoded], axis=1)\n",
    "\n",
    "# Xóa cột 'street_normalized' nếu không cần thiết nữa\n",
    "data.drop(columns=['street_normalized'], inplace=True)\n",
    "\n",
    "# Kiểm tra lại dữ liệu sau khi xử lý\n",
    "print(data.head())"
   ],
   "metadata": {
    "collapsed": false,
    "ExecuteTime": {
     "end_time": "2024-09-24T14:35:44.586257Z",
     "start_time": "2024-09-24T14:35:44.565013Z"
    }
   },
   "id": "39ab1aead468844b",
   "execution_count": 4
  },
  {
   "cell_type": "code",
   "outputs": [],
   "source": [
    "data = data.drop(columns=['street'])\n",
    "\n",
    "data = data.drop(columns=['attributes'])\n",
    "\n",
    "data = data.drop(columns=['price_value'])\n",
    "\n",
    "X = data.drop('price_absolute', axis=1)\n",
    "y = data['price_absolute']"
   ],
   "metadata": {
    "collapsed": false,
    "ExecuteTime": {
     "end_time": "2024-09-24T14:35:59.233737Z",
     "start_time": "2024-09-24T14:35:59.225258Z"
    }
   },
   "id": "1736f372937496c5",
   "execution_count": 5
  },
  {
   "cell_type": "code",
   "outputs": [],
   "source": [
    "from sklearn.model_selection import train_test_split\n",
    "\n",
    "X_train, X_test, y_train, y_test = train_test_split(X, y, test_size=0.3, random_state=101)"
   ],
   "metadata": {
    "collapsed": false,
    "ExecuteTime": {
     "end_time": "2024-09-24T14:41:55.419600Z",
     "start_time": "2024-09-24T14:41:55.412362Z"
    }
   },
   "id": "9c334e0680f1a9e4",
   "execution_count": 9
  },
  {
   "cell_type": "code",
   "outputs": [],
   "source": [
    "from sklearn.preprocessing import MinMaxScaler\n",
    "scaler = MinMaxScaler()\n"
   ],
   "metadata": {
    "collapsed": false,
    "ExecuteTime": {
     "end_time": "2024-09-24T14:41:55.749087Z",
     "start_time": "2024-09-24T14:41:55.744497Z"
    }
   },
   "id": "895896d374088978",
   "execution_count": 10
  },
  {
   "cell_type": "code",
   "outputs": [],
   "source": [
    "X_train = scaler.fit_transform(X_train)\n",
    "X_test = scaler.transform(X_test)\n"
   ],
   "metadata": {
    "collapsed": false,
    "ExecuteTime": {
     "end_time": "2024-09-24T14:41:56.077311Z",
     "start_time": "2024-09-24T14:41:56.065080Z"
    }
   },
   "id": "a2fcd44c3baad3f1",
   "execution_count": 11
  },
  {
   "cell_type": "code",
   "outputs": [],
   "source": [
    "import lightgbm as lgb\n",
    "from sklearn.metrics import mean_squared_error, mean_absolute_error, r2_score\n",
    "from sklearn.model_selection import train_test_split, RandomizedSearchCV, GridSearchCV\n",
    "import numpy as np\n"
   ],
   "metadata": {
    "collapsed": false,
    "ExecuteTime": {
     "end_time": "2024-09-24T14:44:14.134306Z",
     "start_time": "2024-09-24T14:44:13.610038Z"
    }
   },
   "id": "a8e8f4e87c299fe5",
   "execution_count": 13
  },
  {
   "cell_type": "code",
   "outputs": [],
   "source": [
    "# Tăng cường param_grid với nhiều giá trị hơn cho các tham số\n",
    "param_grid_lgb = {\n",
    "    'n_estimators': [100, 200, 300, 400, 500, 600],  # Số lượng cây tăng thêm\n",
    "    'max_depth': [-1, 3, 4, 5, 6, 7, 8, 10],  # Độ sâu của cây\n",
    "    'learning_rate': [0.005, 0.01, 0.02, 0.05, 0.1, 0.15],  # Tỷ lệ học thêm một số giá trị nhỏ hơn\n",
    "    'num_leaves': [20, 31, 40, 50, 60],  # Số lượng lá tối đa\n",
    "    'min_child_samples': [5, 10, 20, 30, 40, 50],  # Thêm các giá trị nhỏ hơn cho số lượng mẫu tối thiểu trong mỗi lá\n",
    "    'subsample': [0.5, 0.6, 0.7, 0.8, 0.9, 1.0],  # Tỷ lệ mẫu cho mỗi cây\n",
    "    'colsample_bytree': [0.5, 0.6, 0.7, 0.8, 0.9, 1.0],  # Tỷ lệ cột\n",
    "    'reg_alpha': [0, 0.01, 0.1, 1, 5],  # Điều chỉnh độ phức tạp\n",
    "    'reg_lambda': [0, 0.01, 0.1, 1, 5],  # Điều chỉnh độ phức tạp\n",
    "}"
   ],
   "metadata": {
    "collapsed": false,
    "ExecuteTime": {
     "end_time": "2024-09-24T14:45:58.995115Z",
     "start_time": "2024-09-24T14:45:58.987360Z"
    }
   },
   "id": "a618a07bf80e7471",
   "execution_count": 15
  },
  {
   "cell_type": "code",
   "outputs": [],
   "source": [
    "# Khởi tạo mô hình LightGBM\n",
    "lgb_model = lgb.LGBMRegressor(objective='regression', random_state=101)"
   ],
   "metadata": {
    "collapsed": false,
    "ExecuteTime": {
     "end_time": "2024-09-24T14:45:59.615016Z",
     "start_time": "2024-09-24T14:45:59.608293Z"
    }
   },
   "id": "a7e9c70e73643e60",
   "execution_count": 16
  },
  {
   "cell_type": "code",
   "outputs": [],
   "source": [
    "# Thiết lập RandomizedSearchCV với Early Stopping\n",
    "random_search_lgb = RandomizedSearchCV(\n",
    "    estimator=lgb_model,\n",
    "    param_distributions=param_grid_lgb,\n",
    "    n_iter=200,  # Tăng số lần thử nghiệm\n",
    "    scoring='neg_mean_squared_error',  # Sử dụng MSE làm metric\n",
    "    cv=7,  # Tăng số lượng cross-validation folds\n",
    "    verbose=1,\n",
    "    n_jobs=-1,\n",
    "    random_state=101\n",
    ")"
   ],
   "metadata": {
    "collapsed": false,
    "ExecuteTime": {
     "end_time": "2024-09-24T14:46:00.890298Z",
     "start_time": "2024-09-24T14:46:00.885295Z"
    }
   },
   "id": "cebf737c26b63021",
   "execution_count": 17
  },
  {
   "cell_type": "code",
   "outputs": [],
   "source": [
    "# Thêm các tham số bổ sung vào fit_params\n",
    "fit_params = {\n",
    "    'eval_set': [(X_train, y_train), (X_test, y_test)],\n",
    "    'eval_metric': 'rmse',\n",
    "    'early_stopping_rounds': 50,\n",
    "    'verbose': 0  # Không hiển thị thông tin huấn luyện\n",
    "}\n"
   ],
   "metadata": {
    "collapsed": false,
    "ExecuteTime": {
     "end_time": "2024-09-24T14:48:37.800176Z",
     "start_time": "2024-09-24T14:48:37.795610Z"
    }
   },
   "id": "c31b14e53ddb44f1",
   "execution_count": 22
  },
  {
   "cell_type": "code",
   "outputs": [
    {
     "name": "stdout",
     "output_type": "stream",
     "text": [
      "Fitting 7 folds for each of 200 candidates, totalling 1400 fits\n"
     ]
    },
    {
     "ename": "ValueError",
     "evalue": "\nAll the 1400 fits failed.\nIt is very likely that your model is misconfigured.\nYou can try to debug the error by setting error_score='raise'.\n\nBelow are more details about the failures:\n--------------------------------------------------------------------------------\n1400 fits failed with the following error:\nTraceback (most recent call last):\n  File \"C:\\Users\\Huy\\PycharmProjects\\pythonProject25\\.venv\\Lib\\site-packages\\sklearn\\model_selection\\_validation.py\", line 888, in _fit_and_score\n    estimator.fit(X_train, y_train, **fit_params)\nTypeError: LGBMRegressor.fit() got an unexpected keyword argument 'early_stopping_rounds'\n",
     "output_type": "error",
     "traceback": [
      "\u001B[1;31m---------------------------------------------------------------------------\u001B[0m",
      "\u001B[1;31mValueError\u001B[0m                                Traceback (most recent call last)",
      "Cell \u001B[1;32mIn[23], line 2\u001B[0m\n\u001B[0;32m      1\u001B[0m \u001B[38;5;66;03m# Huấn luyện RandomizedSearchCV với fit_params\u001B[39;00m\n\u001B[1;32m----> 2\u001B[0m \u001B[43mrandom_search_lgb\u001B[49m\u001B[38;5;241;43m.\u001B[39;49m\u001B[43mfit\u001B[49m\u001B[43m(\u001B[49m\u001B[43mX_train\u001B[49m\u001B[43m,\u001B[49m\u001B[43m \u001B[49m\u001B[43my_train\u001B[49m\u001B[43m,\u001B[49m\u001B[43m \u001B[49m\u001B[38;5;241;43m*\u001B[39;49m\u001B[38;5;241;43m*\u001B[39;49m\u001B[43mfit_params\u001B[49m\u001B[43m)\u001B[49m\n",
      "File \u001B[1;32m~\\PycharmProjects\\pythonProject25\\.venv\\Lib\\site-packages\\sklearn\\base.py:1473\u001B[0m, in \u001B[0;36m_fit_context.<locals>.decorator.<locals>.wrapper\u001B[1;34m(estimator, *args, **kwargs)\u001B[0m\n\u001B[0;32m   1466\u001B[0m     estimator\u001B[38;5;241m.\u001B[39m_validate_params()\n\u001B[0;32m   1468\u001B[0m \u001B[38;5;28;01mwith\u001B[39;00m config_context(\n\u001B[0;32m   1469\u001B[0m     skip_parameter_validation\u001B[38;5;241m=\u001B[39m(\n\u001B[0;32m   1470\u001B[0m         prefer_skip_nested_validation \u001B[38;5;129;01mor\u001B[39;00m global_skip_validation\n\u001B[0;32m   1471\u001B[0m     )\n\u001B[0;32m   1472\u001B[0m ):\n\u001B[1;32m-> 1473\u001B[0m     \u001B[38;5;28;01mreturn\u001B[39;00m \u001B[43mfit_method\u001B[49m\u001B[43m(\u001B[49m\u001B[43mestimator\u001B[49m\u001B[43m,\u001B[49m\u001B[43m \u001B[49m\u001B[38;5;241;43m*\u001B[39;49m\u001B[43margs\u001B[49m\u001B[43m,\u001B[49m\u001B[43m \u001B[49m\u001B[38;5;241;43m*\u001B[39;49m\u001B[38;5;241;43m*\u001B[39;49m\u001B[43mkwargs\u001B[49m\u001B[43m)\u001B[49m\n",
      "File \u001B[1;32m~\\PycharmProjects\\pythonProject25\\.venv\\Lib\\site-packages\\sklearn\\model_selection\\_search.py:1019\u001B[0m, in \u001B[0;36mBaseSearchCV.fit\u001B[1;34m(self, X, y, **params)\u001B[0m\n\u001B[0;32m   1013\u001B[0m     results \u001B[38;5;241m=\u001B[39m \u001B[38;5;28mself\u001B[39m\u001B[38;5;241m.\u001B[39m_format_results(\n\u001B[0;32m   1014\u001B[0m         all_candidate_params, n_splits, all_out, all_more_results\n\u001B[0;32m   1015\u001B[0m     )\n\u001B[0;32m   1017\u001B[0m     \u001B[38;5;28;01mreturn\u001B[39;00m results\n\u001B[1;32m-> 1019\u001B[0m \u001B[38;5;28;43mself\u001B[39;49m\u001B[38;5;241;43m.\u001B[39;49m\u001B[43m_run_search\u001B[49m\u001B[43m(\u001B[49m\u001B[43mevaluate_candidates\u001B[49m\u001B[43m)\u001B[49m\n\u001B[0;32m   1021\u001B[0m \u001B[38;5;66;03m# multimetric is determined here because in the case of a callable\u001B[39;00m\n\u001B[0;32m   1022\u001B[0m \u001B[38;5;66;03m# self.scoring the return type is only known after calling\u001B[39;00m\n\u001B[0;32m   1023\u001B[0m first_test_score \u001B[38;5;241m=\u001B[39m all_out[\u001B[38;5;241m0\u001B[39m][\u001B[38;5;124m\"\u001B[39m\u001B[38;5;124mtest_scores\u001B[39m\u001B[38;5;124m\"\u001B[39m]\n",
      "File \u001B[1;32m~\\PycharmProjects\\pythonProject25\\.venv\\Lib\\site-packages\\sklearn\\model_selection\\_search.py:1960\u001B[0m, in \u001B[0;36mRandomizedSearchCV._run_search\u001B[1;34m(self, evaluate_candidates)\u001B[0m\n\u001B[0;32m   1958\u001B[0m \u001B[38;5;28;01mdef\u001B[39;00m \u001B[38;5;21m_run_search\u001B[39m(\u001B[38;5;28mself\u001B[39m, evaluate_candidates):\n\u001B[0;32m   1959\u001B[0m \u001B[38;5;250m    \u001B[39m\u001B[38;5;124;03m\"\"\"Search n_iter candidates from param_distributions\"\"\"\u001B[39;00m\n\u001B[1;32m-> 1960\u001B[0m     \u001B[43mevaluate_candidates\u001B[49m\u001B[43m(\u001B[49m\n\u001B[0;32m   1961\u001B[0m \u001B[43m        \u001B[49m\u001B[43mParameterSampler\u001B[49m\u001B[43m(\u001B[49m\n\u001B[0;32m   1962\u001B[0m \u001B[43m            \u001B[49m\u001B[38;5;28;43mself\u001B[39;49m\u001B[38;5;241;43m.\u001B[39;49m\u001B[43mparam_distributions\u001B[49m\u001B[43m,\u001B[49m\u001B[43m \u001B[49m\u001B[38;5;28;43mself\u001B[39;49m\u001B[38;5;241;43m.\u001B[39;49m\u001B[43mn_iter\u001B[49m\u001B[43m,\u001B[49m\u001B[43m \u001B[49m\u001B[43mrandom_state\u001B[49m\u001B[38;5;241;43m=\u001B[39;49m\u001B[38;5;28;43mself\u001B[39;49m\u001B[38;5;241;43m.\u001B[39;49m\u001B[43mrandom_state\u001B[49m\n\u001B[0;32m   1963\u001B[0m \u001B[43m        \u001B[49m\u001B[43m)\u001B[49m\n\u001B[0;32m   1964\u001B[0m \u001B[43m    \u001B[49m\u001B[43m)\u001B[49m\n",
      "File \u001B[1;32m~\\PycharmProjects\\pythonProject25\\.venv\\Lib\\site-packages\\sklearn\\model_selection\\_search.py:996\u001B[0m, in \u001B[0;36mBaseSearchCV.fit.<locals>.evaluate_candidates\u001B[1;34m(candidate_params, cv, more_results)\u001B[0m\n\u001B[0;32m    989\u001B[0m \u001B[38;5;28;01melif\u001B[39;00m \u001B[38;5;28mlen\u001B[39m(out) \u001B[38;5;241m!=\u001B[39m n_candidates \u001B[38;5;241m*\u001B[39m n_splits:\n\u001B[0;32m    990\u001B[0m     \u001B[38;5;28;01mraise\u001B[39;00m \u001B[38;5;167;01mValueError\u001B[39;00m(\n\u001B[0;32m    991\u001B[0m         \u001B[38;5;124m\"\u001B[39m\u001B[38;5;124mcv.split and cv.get_n_splits returned \u001B[39m\u001B[38;5;124m\"\u001B[39m\n\u001B[0;32m    992\u001B[0m         \u001B[38;5;124m\"\u001B[39m\u001B[38;5;124minconsistent results. Expected \u001B[39m\u001B[38;5;132;01m{}\u001B[39;00m\u001B[38;5;124m \u001B[39m\u001B[38;5;124m\"\u001B[39m\n\u001B[0;32m    993\u001B[0m         \u001B[38;5;124m\"\u001B[39m\u001B[38;5;124msplits, got \u001B[39m\u001B[38;5;132;01m{}\u001B[39;00m\u001B[38;5;124m\"\u001B[39m\u001B[38;5;241m.\u001B[39mformat(n_splits, \u001B[38;5;28mlen\u001B[39m(out) \u001B[38;5;241m/\u001B[39m\u001B[38;5;241m/\u001B[39m n_candidates)\n\u001B[0;32m    994\u001B[0m     )\n\u001B[1;32m--> 996\u001B[0m \u001B[43m_warn_or_raise_about_fit_failures\u001B[49m\u001B[43m(\u001B[49m\u001B[43mout\u001B[49m\u001B[43m,\u001B[49m\u001B[43m \u001B[49m\u001B[38;5;28;43mself\u001B[39;49m\u001B[38;5;241;43m.\u001B[39;49m\u001B[43merror_score\u001B[49m\u001B[43m)\u001B[49m\n\u001B[0;32m    998\u001B[0m \u001B[38;5;66;03m# For callable self.scoring, the return type is only know after\u001B[39;00m\n\u001B[0;32m    999\u001B[0m \u001B[38;5;66;03m# calling. If the return type is a dictionary, the error scores\u001B[39;00m\n\u001B[0;32m   1000\u001B[0m \u001B[38;5;66;03m# can now be inserted with the correct key. The type checking\u001B[39;00m\n\u001B[0;32m   1001\u001B[0m \u001B[38;5;66;03m# of out will be done in `_insert_error_scores`.\u001B[39;00m\n\u001B[0;32m   1002\u001B[0m \u001B[38;5;28;01mif\u001B[39;00m \u001B[38;5;28mcallable\u001B[39m(\u001B[38;5;28mself\u001B[39m\u001B[38;5;241m.\u001B[39mscoring):\n",
      "File \u001B[1;32m~\\PycharmProjects\\pythonProject25\\.venv\\Lib\\site-packages\\sklearn\\model_selection\\_validation.py:529\u001B[0m, in \u001B[0;36m_warn_or_raise_about_fit_failures\u001B[1;34m(results, error_score)\u001B[0m\n\u001B[0;32m    522\u001B[0m \u001B[38;5;28;01mif\u001B[39;00m num_failed_fits \u001B[38;5;241m==\u001B[39m num_fits:\n\u001B[0;32m    523\u001B[0m     all_fits_failed_message \u001B[38;5;241m=\u001B[39m (\n\u001B[0;32m    524\u001B[0m         \u001B[38;5;124mf\u001B[39m\u001B[38;5;124m\"\u001B[39m\u001B[38;5;130;01m\\n\u001B[39;00m\u001B[38;5;124mAll the \u001B[39m\u001B[38;5;132;01m{\u001B[39;00mnum_fits\u001B[38;5;132;01m}\u001B[39;00m\u001B[38;5;124m fits failed.\u001B[39m\u001B[38;5;130;01m\\n\u001B[39;00m\u001B[38;5;124m\"\u001B[39m\n\u001B[0;32m    525\u001B[0m         \u001B[38;5;124m\"\u001B[39m\u001B[38;5;124mIt is very likely that your model is misconfigured.\u001B[39m\u001B[38;5;130;01m\\n\u001B[39;00m\u001B[38;5;124m\"\u001B[39m\n\u001B[0;32m    526\u001B[0m         \u001B[38;5;124m\"\u001B[39m\u001B[38;5;124mYou can try to debug the error by setting error_score=\u001B[39m\u001B[38;5;124m'\u001B[39m\u001B[38;5;124mraise\u001B[39m\u001B[38;5;124m'\u001B[39m\u001B[38;5;124m.\u001B[39m\u001B[38;5;130;01m\\n\u001B[39;00m\u001B[38;5;130;01m\\n\u001B[39;00m\u001B[38;5;124m\"\u001B[39m\n\u001B[0;32m    527\u001B[0m         \u001B[38;5;124mf\u001B[39m\u001B[38;5;124m\"\u001B[39m\u001B[38;5;124mBelow are more details about the failures:\u001B[39m\u001B[38;5;130;01m\\n\u001B[39;00m\u001B[38;5;132;01m{\u001B[39;00mfit_errors_summary\u001B[38;5;132;01m}\u001B[39;00m\u001B[38;5;124m\"\u001B[39m\n\u001B[0;32m    528\u001B[0m     )\n\u001B[1;32m--> 529\u001B[0m     \u001B[38;5;28;01mraise\u001B[39;00m \u001B[38;5;167;01mValueError\u001B[39;00m(all_fits_failed_message)\n\u001B[0;32m    531\u001B[0m \u001B[38;5;28;01melse\u001B[39;00m:\n\u001B[0;32m    532\u001B[0m     some_fits_failed_message \u001B[38;5;241m=\u001B[39m (\n\u001B[0;32m    533\u001B[0m         \u001B[38;5;124mf\u001B[39m\u001B[38;5;124m\"\u001B[39m\u001B[38;5;130;01m\\n\u001B[39;00m\u001B[38;5;132;01m{\u001B[39;00mnum_failed_fits\u001B[38;5;132;01m}\u001B[39;00m\u001B[38;5;124m fits failed out of a total of \u001B[39m\u001B[38;5;132;01m{\u001B[39;00mnum_fits\u001B[38;5;132;01m}\u001B[39;00m\u001B[38;5;124m.\u001B[39m\u001B[38;5;130;01m\\n\u001B[39;00m\u001B[38;5;124m\"\u001B[39m\n\u001B[0;32m    534\u001B[0m         \u001B[38;5;124m\"\u001B[39m\u001B[38;5;124mThe score on these train-test partitions for these parameters\u001B[39m\u001B[38;5;124m\"\u001B[39m\n\u001B[1;32m   (...)\u001B[0m\n\u001B[0;32m    538\u001B[0m         \u001B[38;5;124mf\u001B[39m\u001B[38;5;124m\"\u001B[39m\u001B[38;5;124mBelow are more details about the failures:\u001B[39m\u001B[38;5;130;01m\\n\u001B[39;00m\u001B[38;5;132;01m{\u001B[39;00mfit_errors_summary\u001B[38;5;132;01m}\u001B[39;00m\u001B[38;5;124m\"\u001B[39m\n\u001B[0;32m    539\u001B[0m     )\n",
      "\u001B[1;31mValueError\u001B[0m: \nAll the 1400 fits failed.\nIt is very likely that your model is misconfigured.\nYou can try to debug the error by setting error_score='raise'.\n\nBelow are more details about the failures:\n--------------------------------------------------------------------------------\n1400 fits failed with the following error:\nTraceback (most recent call last):\n  File \"C:\\Users\\Huy\\PycharmProjects\\pythonProject25\\.venv\\Lib\\site-packages\\sklearn\\model_selection\\_validation.py\", line 888, in _fit_and_score\n    estimator.fit(X_train, y_train, **fit_params)\nTypeError: LGBMRegressor.fit() got an unexpected keyword argument 'early_stopping_rounds'\n"
     ]
    }
   ],
   "source": [
    "# Huấn luyện RandomizedSearchCV với fit_params\n",
    "random_search_lgb.fit(X_train, y_train, **fit_params)"
   ],
   "metadata": {
    "collapsed": false,
    "ExecuteTime": {
     "end_time": "2024-09-24T14:48:50.677095Z",
     "start_time": "2024-09-24T14:48:49.774520Z"
    }
   },
   "id": "b6aef74d7b5a0676",
   "execution_count": 23
  },
  {
   "cell_type": "code",
   "outputs": [],
   "source": [],
   "metadata": {
    "collapsed": false
   },
   "id": "8a5437224401eff8"
  }
 ],
 "metadata": {
  "kernelspec": {
   "display_name": "Python 3",
   "language": "python",
   "name": "python3"
  },
  "language_info": {
   "codemirror_mode": {
    "name": "ipython",
    "version": 2
   },
   "file_extension": ".py",
   "mimetype": "text/x-python",
   "name": "python",
   "nbconvert_exporter": "python",
   "pygments_lexer": "ipython2",
   "version": "2.7.6"
  }
 },
 "nbformat": 4,
 "nbformat_minor": 5
}
