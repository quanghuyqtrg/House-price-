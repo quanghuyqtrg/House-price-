{
 "cells": [
  {
   "cell_type": "code",
   "execution_count": 3,
   "id": "initial_id",
   "metadata": {
    "collapsed": true,
    "ExecuteTime": {
     "end_time": "2024-09-21T21:17:17.884741Z",
     "start_time": "2024-09-21T21:17:17.878236Z"
    }
   },
   "outputs": [],
   "source": [
    "import numpy as np\n",
    "import pandas as pd\n",
    "import sns\n",
    "import unicodedata\n",
    "import re\n",
    "import tensorflow as tf \n",
    "from sklearn.model_selection import train_test_split\n",
    "from sklearn.preprocessing import MinMaxScaler\n",
    "from sklearn.metrics import mean_squared_error\n",
    "from tensorflow.keras.layers import LSTM, Dense, Dropout\n",
    "from tensorflow.keras.initializers import GlorotUniform\n",
    "from tensorflow.keras.regularizers import l2\n",
    "from tensorflow.keras.optimizers import Adam\n"
   ]
  },
  {
   "cell_type": "code",
   "outputs": [],
   "source": [
    "data = pd.read_csv('output.csv')\n"
   ],
   "metadata": {
    "collapsed": false,
    "ExecuteTime": {
     "end_time": "2024-09-21T21:17:18.986693Z",
     "start_time": "2024-09-21T21:17:18.977783Z"
    }
   },
   "id": "b98e53e125bd69b7",
   "execution_count": 4
  },
  {
   "cell_type": "code",
   "outputs": [
    {
     "data": {
      "text/plain": "   province  district                   street  price_unit  price_value  \\\n0         1         5  Mặt phố C1 TT Nghĩa Tân           1         5.50   \n1         1         5                  Yên Hoà           1         8.58   \n2         1         5                 Cầu Giấy           1         8.65   \n3         1         5              Hồ Tùng Mậu           1        28.50   \n4         1         5                 Cầu Giấy           1         8.90   \n\n   price_absolute   area  type  front  room  toilet  floor  \\\n0          5500.0   70.0     1    7.0     2       2      1   \n1          8580.0   45.0     1    5.0     5       4      4   \n2          8650.0   43.0     1    3.6     6       1      5   \n3         28500.0  100.0     1    6.9    29      29      8   \n4          8900.0   35.0     1    3.4     6       2      5   \n\n                    attributes  \n0  Ô tô, Kinh doanh, Dòng tiền  \n1                         Ô tô  \n2                          NaN  \n3   Ô tô, Dòng tiền, Thang máy  \n4                          NaN  ",
      "text/html": "<div>\n<style scoped>\n    .dataframe tbody tr th:only-of-type {\n        vertical-align: middle;\n    }\n\n    .dataframe tbody tr th {\n        vertical-align: top;\n    }\n\n    .dataframe thead th {\n        text-align: right;\n    }\n</style>\n<table border=\"1\" class=\"dataframe\">\n  <thead>\n    <tr style=\"text-align: right;\">\n      <th></th>\n      <th>province</th>\n      <th>district</th>\n      <th>street</th>\n      <th>price_unit</th>\n      <th>price_value</th>\n      <th>price_absolute</th>\n      <th>area</th>\n      <th>type</th>\n      <th>front</th>\n      <th>room</th>\n      <th>toilet</th>\n      <th>floor</th>\n      <th>attributes</th>\n    </tr>\n  </thead>\n  <tbody>\n    <tr>\n      <th>0</th>\n      <td>1</td>\n      <td>5</td>\n      <td>Mặt phố C1 TT Nghĩa Tân</td>\n      <td>1</td>\n      <td>5.50</td>\n      <td>5500.0</td>\n      <td>70.0</td>\n      <td>1</td>\n      <td>7.0</td>\n      <td>2</td>\n      <td>2</td>\n      <td>1</td>\n      <td>Ô tô, Kinh doanh, Dòng tiền</td>\n    </tr>\n    <tr>\n      <th>1</th>\n      <td>1</td>\n      <td>5</td>\n      <td>Yên Hoà</td>\n      <td>1</td>\n      <td>8.58</td>\n      <td>8580.0</td>\n      <td>45.0</td>\n      <td>1</td>\n      <td>5.0</td>\n      <td>5</td>\n      <td>4</td>\n      <td>4</td>\n      <td>Ô tô</td>\n    </tr>\n    <tr>\n      <th>2</th>\n      <td>1</td>\n      <td>5</td>\n      <td>Cầu Giấy</td>\n      <td>1</td>\n      <td>8.65</td>\n      <td>8650.0</td>\n      <td>43.0</td>\n      <td>1</td>\n      <td>3.6</td>\n      <td>6</td>\n      <td>1</td>\n      <td>5</td>\n      <td>NaN</td>\n    </tr>\n    <tr>\n      <th>3</th>\n      <td>1</td>\n      <td>5</td>\n      <td>Hồ Tùng Mậu</td>\n      <td>1</td>\n      <td>28.50</td>\n      <td>28500.0</td>\n      <td>100.0</td>\n      <td>1</td>\n      <td>6.9</td>\n      <td>29</td>\n      <td>29</td>\n      <td>8</td>\n      <td>Ô tô, Dòng tiền, Thang máy</td>\n    </tr>\n    <tr>\n      <th>4</th>\n      <td>1</td>\n      <td>5</td>\n      <td>Cầu Giấy</td>\n      <td>1</td>\n      <td>8.90</td>\n      <td>8900.0</td>\n      <td>35.0</td>\n      <td>1</td>\n      <td>3.4</td>\n      <td>6</td>\n      <td>2</td>\n      <td>5</td>\n      <td>NaN</td>\n    </tr>\n  </tbody>\n</table>\n</div>"
     },
     "execution_count": 5,
     "metadata": {},
     "output_type": "execute_result"
    }
   ],
   "source": [
    "data.head()"
   ],
   "metadata": {
    "collapsed": false,
    "ExecuteTime": {
     "end_time": "2024-09-21T21:17:20.228615Z",
     "start_time": "2024-09-21T21:17:20.211062Z"
    }
   },
   "id": "2b5b9e6197784829",
   "execution_count": 5
  },
  {
   "cell_type": "code",
   "outputs": [
    {
     "data": {
      "text/plain": "(551, 13)"
     },
     "execution_count": 6,
     "metadata": {},
     "output_type": "execute_result"
    }
   ],
   "source": [
    "data.shape"
   ],
   "metadata": {
    "collapsed": false,
    "ExecuteTime": {
     "end_time": "2024-09-21T21:18:02.201645Z",
     "start_time": "2024-09-21T21:18:02.195269Z"
    }
   },
   "id": "6334cae36d3ce247",
   "execution_count": 6
  },
  {
   "cell_type": "code",
   "outputs": [
    {
     "name": "stdout",
     "output_type": "stream",
     "text": [
      "<class 'pandas.core.frame.DataFrame'>\n",
      "RangeIndex: 551 entries, 0 to 550\n",
      "Data columns (total 13 columns):\n",
      " #   Column          Non-Null Count  Dtype  \n",
      "---  ------          --------------  -----  \n",
      " 0   province        551 non-null    int64  \n",
      " 1   district        551 non-null    int64  \n",
      " 2   street          551 non-null    object \n",
      " 3   price_unit      551 non-null    int64  \n",
      " 4   price_value     551 non-null    float64\n",
      " 5   price_absolute  551 non-null    float64\n",
      " 6   area            551 non-null    float64\n",
      " 7   type            551 non-null    int64  \n",
      " 8   front           551 non-null    float64\n",
      " 9   room            551 non-null    int64  \n",
      " 10  toilet          551 non-null    int64  \n",
      " 11  floor           551 non-null    int64  \n",
      " 12  attributes      391 non-null    object \n",
      "dtypes: float64(4), int64(7), object(2)\n",
      "memory usage: 56.1+ KB\n"
     ]
    }
   ],
   "source": [
    "data.info()"
   ],
   "metadata": {
    "collapsed": false,
    "ExecuteTime": {
     "end_time": "2024-09-21T21:18:18.255671Z",
     "start_time": "2024-09-21T21:18:18.240511Z"
    }
   },
   "id": "2771a64e2bbd8727",
   "execution_count": 7
  },
  {
   "cell_type": "code",
   "outputs": [
    {
     "name": "stdout",
     "output_type": "stream",
     "text": [
      "0      Ô tô, Kinh doanh, Dòng tiền\n",
      "1                             Ô tô\n",
      "2                              NaN\n",
      "3       Ô tô, Dòng tiền, Thang máy\n",
      "4                              NaN\n",
      "                  ...             \n",
      "546                           Ô tô\n",
      "547      Ô tô, Mặt phố, Kinh doanh\n",
      "548                            NaN\n",
      "549                           Ô tô\n",
      "550      Ô tô, Mặt phố, Kinh doanh\n",
      "Name: attributes, Length: 551, dtype: object\n"
     ]
    }
   ],
   "source": [
    "print(data['attributes'])\n"
   ],
   "metadata": {
    "collapsed": false,
    "ExecuteTime": {
     "end_time": "2024-09-21T21:21:29.695949Z",
     "start_time": "2024-09-21T21:21:29.688946Z"
    }
   },
   "id": "3c6052b72eb2b298",
   "execution_count": 8
  },
  {
   "cell_type": "code",
   "outputs": [
    {
     "name": "stdout",
     "output_type": "stream",
     "text": [
      "   province  district                   street  price_unit  price_value  \\\n",
      "0         1         5  Mặt phố C1 TT Nghĩa Tân           1         5.50   \n",
      "1         1         5                  Yên Hoà           1         8.58   \n",
      "2         1         5                 Cầu Giấy           1         8.65   \n",
      "3         1         5              Hồ Tùng Mậu           1        28.50   \n",
      "4         1         5                 Cầu Giấy           1         8.90   \n",
      "\n",
      "   price_absolute   area  type  front  room  ...  Mặt phố  Thang máy  Ô tô  \\\n",
      "0          5500.0   70.0     1    7.0     2  ...        0          0     1   \n",
      "1          8580.0   45.0     1    5.0     5  ...        0          0     1   \n",
      "2          8650.0   43.0     1    3.6     6  ...        0          0     0   \n",
      "3         28500.0  100.0     1    6.9    29  ...        0          1     1   \n",
      "4          8900.0   35.0     1    3.4     6  ...        0          0     0   \n",
      "\n",
      "   Chung cư  Dòng tiền  Không rõ  Kinh doanh  Mặt phố  Thang máy  Ô tô  \n",
      "0         0          1         0           1        0          0     1  \n",
      "1         0          0         0           0        0          0     1  \n",
      "2         0          0         1           0        0          0     0  \n",
      "3         0          1         0           0        0          1     1  \n",
      "4         0          0         1           0        0          0     0  \n",
      "\n",
      "[5 rows x 27 columns]\n"
     ]
    }
   ],
   "source": [
    "# 1. Loại bỏ khoảng trắng và điền NaN\n",
    "data['attributes'] = data['attributes'].str.strip()\n",
    "\n",
    "# Assign NaN values explicitly using a new variable, avoiding inplace\n",
    "data['attributes'] = data['attributes'].fillna('Không rõ')\n",
    "\n",
    "# 2. Mã hóa các thuộc tính\n",
    "attributes_dummies = data['attributes'].str.get_dummies(sep=', ')\n",
    "\n",
    "# 3. Ghép các cột đã mã hóa vào DataFrame gốc\n",
    "data = pd.concat([data, attributes_dummies], axis=1)\n",
    "\n",
    "# 4. Kiểm tra kết quả\n",
    "print(data.head())\n"
   ],
   "metadata": {
    "collapsed": false,
    "ExecuteTime": {
     "end_time": "2024-09-21T21:23:26.858553Z",
     "start_time": "2024-09-21T21:23:26.840109Z"
    }
   },
   "id": "a38276b756e4c352",
   "execution_count": 10
  },
  {
   "cell_type": "code",
   "outputs": [
    {
     "name": "stdout",
     "output_type": "stream",
     "text": [
      "   province  district                   street  price_unit  price_value  \\\n",
      "0         1         5  Mặt phố C1 TT Nghĩa Tân           1         5.50   \n",
      "1         1         5                  Yên Hoà           1         8.58   \n",
      "2         1         5                 Cầu Giấy           1         8.65   \n",
      "3         1         5              Hồ Tùng Mậu           1        28.50   \n",
      "4         1         5                 Cầu Giấy           1         8.90   \n",
      "\n",
      "   price_absolute   area  type  front  room  ...  street_truong cong giai  \\\n",
      "0          5500.0   70.0     1    7.0     2  ...                    False   \n",
      "1          8580.0   45.0     1    5.0     5  ...                    False   \n",
      "2          8650.0   43.0     1    3.6     6  ...                    False   \n",
      "3         28500.0  100.0     1    6.9    29  ...                    False   \n",
      "4          8900.0   35.0     1    3.4     6  ...                    False   \n",
      "\n",
      "   street_tt van cong mai dich street_tt van hoa nghe thuat mai dich  \\\n",
      "0                        False                                 False   \n",
      "1                        False                                 False   \n",
      "2                        False                                 False   \n",
      "3                        False                                 False   \n",
      "4                        False                                 False   \n",
      "\n",
      "   street_tu mo  street_uong 800a  street_vo chi cong  street_xuan thuy  \\\n",
      "0         False             False               False             False   \n",
      "1         False             False               False             False   \n",
      "2         False             False               False             False   \n",
      "3         False             False               False             False   \n",
      "4         False             False               False             False   \n",
      "\n",
      "   street_xx cau giay  street_xx tran thai tong  street_yen hoa  \n",
      "0               False                     False           False  \n",
      "1               False                     False            True  \n",
      "2               False                     False           False  \n",
      "3               False                     False           False  \n",
      "4               False                     False           False  \n",
      "\n",
      "[5 rows x 327 columns]\n"
     ]
    }
   ],
   "source": [
    " # Hàm chuẩn hóa tên đường\n",
    "def normalize_street_name(street_name):\n",
    "    # Loại bỏ dấu tiếng Việt\n",
    "    street_name = unicodedata.normalize('NFKD', street_name).encode('ascii', 'ignore').decode('utf-8')\n",
    "    # Chuyển thành chữ thường\n",
    "    street_name = street_name.lower()\n",
    "    # Loại bỏ các ký tự đặc biệt và khoảng trắng thừa\n",
    "    street_name = re.sub(r'[^a-z0-9\\s]', '', street_name)\n",
    "    street_name = re.sub(r'\\s+', ' ', street_name).strip()\n",
    "    return street_name\n",
    "\n",
    "# Áp dụng hàm chuẩn hóa lên cột 'street'\n",
    "data['street_normalized'] = data['street'].apply(normalize_street_name)\n",
    "\n",
    "# Thực hiện one-hot encoding sau khi chuẩn hóa\n",
    "street_encoded = pd.get_dummies(data['street_normalized'], prefix='street')\n",
    "\n",
    "# Nối cột mới với DataFrame gốc\n",
    "data = pd.concat([data, street_encoded], axis=1)\n",
    "\n",
    "# Xóa cột 'street_normalized' nếu không cần thiết nữa\n",
    "data.drop(columns=['street_normalized'], inplace=True)\n",
    "\n",
    "# Kiểm tra lại dữ liệu sau khi xử lý\n",
    "print(data.head())\n"
   ],
   "metadata": {
    "collapsed": false,
    "ExecuteTime": {
     "end_time": "2024-09-21T21:25:15.121052Z",
     "start_time": "2024-09-21T21:25:15.103148Z"
    }
   },
   "id": "5eaa3c33b9ff7fd9",
   "execution_count": 13
  },
  {
   "cell_type": "code",
   "outputs": [
    {
     "ename": "KeyError",
     "evalue": "\"['street'] not found in axis\"",
     "output_type": "error",
     "traceback": [
      "\u001B[1;31m---------------------------------------------------------------------------\u001B[0m",
      "\u001B[1;31mKeyError\u001B[0m                                  Traceback (most recent call last)",
      "\u001B[1;32m~\\AppData\\Local\\Temp\\ipykernel_27828\\3140144812.py\u001B[0m in \u001B[0;36m?\u001B[1;34m()\u001B[0m\n\u001B[1;32m----> 1\u001B[1;33m \u001B[0mdata\u001B[0m \u001B[1;33m=\u001B[0m \u001B[0mdata\u001B[0m\u001B[1;33m.\u001B[0m\u001B[0mdrop\u001B[0m\u001B[1;33m(\u001B[0m\u001B[0mcolumns\u001B[0m\u001B[1;33m=\u001B[0m\u001B[1;33m[\u001B[0m\u001B[1;34m'street'\u001B[0m\u001B[1;33m]\u001B[0m\u001B[1;33m)\u001B[0m\u001B[1;33m\u001B[0m\u001B[1;33m\u001B[0m\u001B[0m\n\u001B[0m\u001B[0;32m      2\u001B[0m \u001B[1;33m\u001B[0m\u001B[0m\n",
      "\u001B[1;32m~\\PycharmProjects\\pythonProject25\\.venv\\Lib\\site-packages\\pandas\\core\\frame.py\u001B[0m in \u001B[0;36m?\u001B[1;34m(self, labels, axis, index, columns, level, inplace, errors)\u001B[0m\n\u001B[0;32m   5577\u001B[0m                 \u001B[0mweight\u001B[0m  \u001B[1;36m250.0\u001B[0m   \u001B[1;36m150.0\u001B[0m\u001B[1;33m\u001B[0m\u001B[1;33m\u001B[0m\u001B[0m\n\u001B[0;32m   5578\u001B[0m         \u001B[0mfalcon\u001B[0m  \u001B[0mspeed\u001B[0m   \u001B[1;36m320.0\u001B[0m   \u001B[1;36m250.0\u001B[0m\u001B[1;33m\u001B[0m\u001B[1;33m\u001B[0m\u001B[0m\n\u001B[0;32m   5579\u001B[0m                 \u001B[0mweight\u001B[0m  \u001B[1;36m1.0\u001B[0m     \u001B[1;36m0.8\u001B[0m\u001B[1;33m\u001B[0m\u001B[1;33m\u001B[0m\u001B[0m\n\u001B[0;32m   5580\u001B[0m         \"\"\"\n\u001B[1;32m-> 5581\u001B[1;33m         return super().drop(\n\u001B[0m\u001B[0;32m   5582\u001B[0m             \u001B[0mlabels\u001B[0m\u001B[1;33m=\u001B[0m\u001B[0mlabels\u001B[0m\u001B[1;33m,\u001B[0m\u001B[1;33m\u001B[0m\u001B[1;33m\u001B[0m\u001B[0m\n\u001B[0;32m   5583\u001B[0m             \u001B[0maxis\u001B[0m\u001B[1;33m=\u001B[0m\u001B[0maxis\u001B[0m\u001B[1;33m,\u001B[0m\u001B[1;33m\u001B[0m\u001B[1;33m\u001B[0m\u001B[0m\n\u001B[0;32m   5584\u001B[0m             \u001B[0mindex\u001B[0m\u001B[1;33m=\u001B[0m\u001B[0mindex\u001B[0m\u001B[1;33m,\u001B[0m\u001B[1;33m\u001B[0m\u001B[1;33m\u001B[0m\u001B[0m\n",
      "\u001B[1;32m~\\PycharmProjects\\pythonProject25\\.venv\\Lib\\site-packages\\pandas\\core\\generic.py\u001B[0m in \u001B[0;36m?\u001B[1;34m(self, labels, axis, index, columns, level, inplace, errors)\u001B[0m\n\u001B[0;32m   4784\u001B[0m         \u001B[0mobj\u001B[0m \u001B[1;33m=\u001B[0m \u001B[0mself\u001B[0m\u001B[1;33m\u001B[0m\u001B[1;33m\u001B[0m\u001B[0m\n\u001B[0;32m   4785\u001B[0m \u001B[1;33m\u001B[0m\u001B[0m\n\u001B[0;32m   4786\u001B[0m         \u001B[1;32mfor\u001B[0m \u001B[0maxis\u001B[0m\u001B[1;33m,\u001B[0m \u001B[0mlabels\u001B[0m \u001B[1;32min\u001B[0m \u001B[0maxes\u001B[0m\u001B[1;33m.\u001B[0m\u001B[0mitems\u001B[0m\u001B[1;33m(\u001B[0m\u001B[1;33m)\u001B[0m\u001B[1;33m:\u001B[0m\u001B[1;33m\u001B[0m\u001B[1;33m\u001B[0m\u001B[0m\n\u001B[0;32m   4787\u001B[0m             \u001B[1;32mif\u001B[0m \u001B[0mlabels\u001B[0m \u001B[1;32mis\u001B[0m \u001B[1;32mnot\u001B[0m \u001B[1;32mNone\u001B[0m\u001B[1;33m:\u001B[0m\u001B[1;33m\u001B[0m\u001B[1;33m\u001B[0m\u001B[0m\n\u001B[1;32m-> 4788\u001B[1;33m                 \u001B[0mobj\u001B[0m \u001B[1;33m=\u001B[0m \u001B[0mobj\u001B[0m\u001B[1;33m.\u001B[0m\u001B[0m_drop_axis\u001B[0m\u001B[1;33m(\u001B[0m\u001B[0mlabels\u001B[0m\u001B[1;33m,\u001B[0m \u001B[0maxis\u001B[0m\u001B[1;33m,\u001B[0m \u001B[0mlevel\u001B[0m\u001B[1;33m=\u001B[0m\u001B[0mlevel\u001B[0m\u001B[1;33m,\u001B[0m \u001B[0merrors\u001B[0m\u001B[1;33m=\u001B[0m\u001B[0merrors\u001B[0m\u001B[1;33m)\u001B[0m\u001B[1;33m\u001B[0m\u001B[1;33m\u001B[0m\u001B[0m\n\u001B[0m\u001B[0;32m   4789\u001B[0m \u001B[1;33m\u001B[0m\u001B[0m\n\u001B[0;32m   4790\u001B[0m         \u001B[1;32mif\u001B[0m \u001B[0minplace\u001B[0m\u001B[1;33m:\u001B[0m\u001B[1;33m\u001B[0m\u001B[1;33m\u001B[0m\u001B[0m\n\u001B[0;32m   4791\u001B[0m             \u001B[0mself\u001B[0m\u001B[1;33m.\u001B[0m\u001B[0m_update_inplace\u001B[0m\u001B[1;33m(\u001B[0m\u001B[0mobj\u001B[0m\u001B[1;33m)\u001B[0m\u001B[1;33m\u001B[0m\u001B[1;33m\u001B[0m\u001B[0m\n",
      "\u001B[1;32m~\\PycharmProjects\\pythonProject25\\.venv\\Lib\\site-packages\\pandas\\core\\generic.py\u001B[0m in \u001B[0;36m?\u001B[1;34m(self, labels, axis, level, errors, only_slice)\u001B[0m\n\u001B[0;32m   4855\u001B[0m                 \u001B[0mmask\u001B[0m \u001B[1;33m=\u001B[0m \u001B[1;33m~\u001B[0m\u001B[0maxis\u001B[0m\u001B[1;33m.\u001B[0m\u001B[0misin\u001B[0m\u001B[1;33m(\u001B[0m\u001B[0mlabels\u001B[0m\u001B[1;33m)\u001B[0m\u001B[1;33m\u001B[0m\u001B[1;33m\u001B[0m\u001B[0m\n\u001B[0;32m   4856\u001B[0m                 \u001B[1;31m# Check if label doesn't exist along axis\u001B[0m\u001B[1;33m\u001B[0m\u001B[1;33m\u001B[0m\u001B[0m\n\u001B[0;32m   4857\u001B[0m                 \u001B[0mlabels_missing\u001B[0m \u001B[1;33m=\u001B[0m \u001B[1;33m(\u001B[0m\u001B[0maxis\u001B[0m\u001B[1;33m.\u001B[0m\u001B[0mget_indexer_for\u001B[0m\u001B[1;33m(\u001B[0m\u001B[0mlabels\u001B[0m\u001B[1;33m)\u001B[0m \u001B[1;33m==\u001B[0m \u001B[1;33m-\u001B[0m\u001B[1;36m1\u001B[0m\u001B[1;33m)\u001B[0m\u001B[1;33m.\u001B[0m\u001B[0many\u001B[0m\u001B[1;33m(\u001B[0m\u001B[1;33m)\u001B[0m\u001B[1;33m\u001B[0m\u001B[1;33m\u001B[0m\u001B[0m\n\u001B[0;32m   4858\u001B[0m                 \u001B[1;32mif\u001B[0m \u001B[0merrors\u001B[0m \u001B[1;33m==\u001B[0m \u001B[1;34m\"raise\"\u001B[0m \u001B[1;32mand\u001B[0m \u001B[0mlabels_missing\u001B[0m\u001B[1;33m:\u001B[0m\u001B[1;33m\u001B[0m\u001B[1;33m\u001B[0m\u001B[0m\n\u001B[1;32m-> 4859\u001B[1;33m                     \u001B[1;32mraise\u001B[0m \u001B[0mKeyError\u001B[0m\u001B[1;33m(\u001B[0m\u001B[1;33mf\"\u001B[0m\u001B[1;33m{\u001B[0m\u001B[0mlabels\u001B[0m\u001B[1;33m}\u001B[0m\u001B[1;33m not found in axis\u001B[0m\u001B[1;33m\"\u001B[0m\u001B[1;33m)\u001B[0m\u001B[1;33m\u001B[0m\u001B[1;33m\u001B[0m\u001B[0m\n\u001B[0m\u001B[0;32m   4860\u001B[0m \u001B[1;33m\u001B[0m\u001B[0m\n\u001B[0;32m   4861\u001B[0m             \u001B[1;32mif\u001B[0m \u001B[0misinstance\u001B[0m\u001B[1;33m(\u001B[0m\u001B[0mmask\u001B[0m\u001B[1;33m.\u001B[0m\u001B[0mdtype\u001B[0m\u001B[1;33m,\u001B[0m \u001B[0mExtensionDtype\u001B[0m\u001B[1;33m)\u001B[0m\u001B[1;33m:\u001B[0m\u001B[1;33m\u001B[0m\u001B[1;33m\u001B[0m\u001B[0m\n\u001B[0;32m   4862\u001B[0m                 \u001B[1;31m# GH#45860\u001B[0m\u001B[1;33m\u001B[0m\u001B[1;33m\u001B[0m\u001B[0m\n",
      "\u001B[1;31mKeyError\u001B[0m: \"['street'] not found in axis\""
     ]
    }
   ],
   "source": [
    "data = data.drop(columns=['street'])\n"
   ],
   "metadata": {
    "collapsed": false,
    "ExecuteTime": {
     "end_time": "2024-09-21T21:26:15.846333Z",
     "start_time": "2024-09-21T21:26:15.787190Z"
    }
   },
   "id": "ec27a875b64b924e",
   "execution_count": 15
  },
  {
   "cell_type": "code",
   "outputs": [],
   "source": [
    "data = data.drop(columns=['attributes'])\n"
   ],
   "metadata": {
    "collapsed": false,
    "ExecuteTime": {
     "end_time": "2024-09-21T21:26:17.679697Z",
     "start_time": "2024-09-21T21:26:17.674440Z"
    }
   },
   "id": "876ca8955f3ca1d2",
   "execution_count": 16
  },
  {
   "cell_type": "code",
   "outputs": [],
   "source": [
    "data = data.drop(columns=['price_value'])\n"
   ],
   "metadata": {
    "collapsed": false,
    "ExecuteTime": {
     "end_time": "2024-09-21T21:26:19.029812Z",
     "start_time": "2024-09-21T21:26:19.023154Z"
    }
   },
   "id": "22b6a114d8b3bd3",
   "execution_count": 17
  },
  {
   "cell_type": "code",
   "outputs": [],
   "source": [
    "data = data.drop(columns=['district'])\n"
   ],
   "metadata": {
    "collapsed": false,
    "ExecuteTime": {
     "end_time": "2024-09-21T21:26:19.741331Z",
     "start_time": "2024-09-21T21:26:19.736639Z"
    }
   },
   "id": "6e0b905622648138",
   "execution_count": 18
  },
  {
   "cell_type": "code",
   "outputs": [
    {
     "ename": "KeyError",
     "evalue": "\"['price_unit'] not found in axis\"",
     "output_type": "error",
     "traceback": [
      "\u001B[1;31m---------------------------------------------------------------------------\u001B[0m",
      "\u001B[1;31mKeyError\u001B[0m                                  Traceback (most recent call last)",
      "\u001B[1;32m~\\AppData\\Local\\Temp\\ipykernel_27828\\2106813306.py\u001B[0m in \u001B[0;36m?\u001B[1;34m()\u001B[0m\n\u001B[1;32m----> 1\u001B[1;33m \u001B[0mdata\u001B[0m \u001B[1;33m=\u001B[0m \u001B[0mdata\u001B[0m\u001B[1;33m.\u001B[0m\u001B[0mdrop\u001B[0m\u001B[1;33m(\u001B[0m\u001B[0mcolumns\u001B[0m\u001B[1;33m=\u001B[0m\u001B[1;33m[\u001B[0m\u001B[1;34m'price_unit'\u001B[0m\u001B[1;33m]\u001B[0m\u001B[1;33m)\u001B[0m\u001B[1;33m\u001B[0m\u001B[1;33m\u001B[0m\u001B[0m\n\u001B[0m\u001B[0;32m      2\u001B[0m \u001B[1;33m\u001B[0m\u001B[0m\n",
      "\u001B[1;32m~\\PycharmProjects\\pythonProject25\\.venv\\Lib\\site-packages\\pandas\\core\\frame.py\u001B[0m in \u001B[0;36m?\u001B[1;34m(self, labels, axis, index, columns, level, inplace, errors)\u001B[0m\n\u001B[0;32m   5577\u001B[0m                 \u001B[0mweight\u001B[0m  \u001B[1;36m250.0\u001B[0m   \u001B[1;36m150.0\u001B[0m\u001B[1;33m\u001B[0m\u001B[1;33m\u001B[0m\u001B[0m\n\u001B[0;32m   5578\u001B[0m         \u001B[0mfalcon\u001B[0m  \u001B[0mspeed\u001B[0m   \u001B[1;36m320.0\u001B[0m   \u001B[1;36m250.0\u001B[0m\u001B[1;33m\u001B[0m\u001B[1;33m\u001B[0m\u001B[0m\n\u001B[0;32m   5579\u001B[0m                 \u001B[0mweight\u001B[0m  \u001B[1;36m1.0\u001B[0m     \u001B[1;36m0.8\u001B[0m\u001B[1;33m\u001B[0m\u001B[1;33m\u001B[0m\u001B[0m\n\u001B[0;32m   5580\u001B[0m         \"\"\"\n\u001B[1;32m-> 5581\u001B[1;33m         return super().drop(\n\u001B[0m\u001B[0;32m   5582\u001B[0m             \u001B[0mlabels\u001B[0m\u001B[1;33m=\u001B[0m\u001B[0mlabels\u001B[0m\u001B[1;33m,\u001B[0m\u001B[1;33m\u001B[0m\u001B[1;33m\u001B[0m\u001B[0m\n\u001B[0;32m   5583\u001B[0m             \u001B[0maxis\u001B[0m\u001B[1;33m=\u001B[0m\u001B[0maxis\u001B[0m\u001B[1;33m,\u001B[0m\u001B[1;33m\u001B[0m\u001B[1;33m\u001B[0m\u001B[0m\n\u001B[0;32m   5584\u001B[0m             \u001B[0mindex\u001B[0m\u001B[1;33m=\u001B[0m\u001B[0mindex\u001B[0m\u001B[1;33m,\u001B[0m\u001B[1;33m\u001B[0m\u001B[1;33m\u001B[0m\u001B[0m\n",
      "\u001B[1;32m~\\PycharmProjects\\pythonProject25\\.venv\\Lib\\site-packages\\pandas\\core\\generic.py\u001B[0m in \u001B[0;36m?\u001B[1;34m(self, labels, axis, index, columns, level, inplace, errors)\u001B[0m\n\u001B[0;32m   4784\u001B[0m         \u001B[0mobj\u001B[0m \u001B[1;33m=\u001B[0m \u001B[0mself\u001B[0m\u001B[1;33m\u001B[0m\u001B[1;33m\u001B[0m\u001B[0m\n\u001B[0;32m   4785\u001B[0m \u001B[1;33m\u001B[0m\u001B[0m\n\u001B[0;32m   4786\u001B[0m         \u001B[1;32mfor\u001B[0m \u001B[0maxis\u001B[0m\u001B[1;33m,\u001B[0m \u001B[0mlabels\u001B[0m \u001B[1;32min\u001B[0m \u001B[0maxes\u001B[0m\u001B[1;33m.\u001B[0m\u001B[0mitems\u001B[0m\u001B[1;33m(\u001B[0m\u001B[1;33m)\u001B[0m\u001B[1;33m:\u001B[0m\u001B[1;33m\u001B[0m\u001B[1;33m\u001B[0m\u001B[0m\n\u001B[0;32m   4787\u001B[0m             \u001B[1;32mif\u001B[0m \u001B[0mlabels\u001B[0m \u001B[1;32mis\u001B[0m \u001B[1;32mnot\u001B[0m \u001B[1;32mNone\u001B[0m\u001B[1;33m:\u001B[0m\u001B[1;33m\u001B[0m\u001B[1;33m\u001B[0m\u001B[0m\n\u001B[1;32m-> 4788\u001B[1;33m                 \u001B[0mobj\u001B[0m \u001B[1;33m=\u001B[0m \u001B[0mobj\u001B[0m\u001B[1;33m.\u001B[0m\u001B[0m_drop_axis\u001B[0m\u001B[1;33m(\u001B[0m\u001B[0mlabels\u001B[0m\u001B[1;33m,\u001B[0m \u001B[0maxis\u001B[0m\u001B[1;33m,\u001B[0m \u001B[0mlevel\u001B[0m\u001B[1;33m=\u001B[0m\u001B[0mlevel\u001B[0m\u001B[1;33m,\u001B[0m \u001B[0merrors\u001B[0m\u001B[1;33m=\u001B[0m\u001B[0merrors\u001B[0m\u001B[1;33m)\u001B[0m\u001B[1;33m\u001B[0m\u001B[1;33m\u001B[0m\u001B[0m\n\u001B[0m\u001B[0;32m   4789\u001B[0m \u001B[1;33m\u001B[0m\u001B[0m\n\u001B[0;32m   4790\u001B[0m         \u001B[1;32mif\u001B[0m \u001B[0minplace\u001B[0m\u001B[1;33m:\u001B[0m\u001B[1;33m\u001B[0m\u001B[1;33m\u001B[0m\u001B[0m\n\u001B[0;32m   4791\u001B[0m             \u001B[0mself\u001B[0m\u001B[1;33m.\u001B[0m\u001B[0m_update_inplace\u001B[0m\u001B[1;33m(\u001B[0m\u001B[0mobj\u001B[0m\u001B[1;33m)\u001B[0m\u001B[1;33m\u001B[0m\u001B[1;33m\u001B[0m\u001B[0m\n",
      "\u001B[1;32m~\\PycharmProjects\\pythonProject25\\.venv\\Lib\\site-packages\\pandas\\core\\generic.py\u001B[0m in \u001B[0;36m?\u001B[1;34m(self, labels, axis, level, errors, only_slice)\u001B[0m\n\u001B[0;32m   4855\u001B[0m                 \u001B[0mmask\u001B[0m \u001B[1;33m=\u001B[0m \u001B[1;33m~\u001B[0m\u001B[0maxis\u001B[0m\u001B[1;33m.\u001B[0m\u001B[0misin\u001B[0m\u001B[1;33m(\u001B[0m\u001B[0mlabels\u001B[0m\u001B[1;33m)\u001B[0m\u001B[1;33m\u001B[0m\u001B[1;33m\u001B[0m\u001B[0m\n\u001B[0;32m   4856\u001B[0m                 \u001B[1;31m# Check if label doesn't exist along axis\u001B[0m\u001B[1;33m\u001B[0m\u001B[1;33m\u001B[0m\u001B[0m\n\u001B[0;32m   4857\u001B[0m                 \u001B[0mlabels_missing\u001B[0m \u001B[1;33m=\u001B[0m \u001B[1;33m(\u001B[0m\u001B[0maxis\u001B[0m\u001B[1;33m.\u001B[0m\u001B[0mget_indexer_for\u001B[0m\u001B[1;33m(\u001B[0m\u001B[0mlabels\u001B[0m\u001B[1;33m)\u001B[0m \u001B[1;33m==\u001B[0m \u001B[1;33m-\u001B[0m\u001B[1;36m1\u001B[0m\u001B[1;33m)\u001B[0m\u001B[1;33m.\u001B[0m\u001B[0many\u001B[0m\u001B[1;33m(\u001B[0m\u001B[1;33m)\u001B[0m\u001B[1;33m\u001B[0m\u001B[1;33m\u001B[0m\u001B[0m\n\u001B[0;32m   4858\u001B[0m                 \u001B[1;32mif\u001B[0m \u001B[0merrors\u001B[0m \u001B[1;33m==\u001B[0m \u001B[1;34m\"raise\"\u001B[0m \u001B[1;32mand\u001B[0m \u001B[0mlabels_missing\u001B[0m\u001B[1;33m:\u001B[0m\u001B[1;33m\u001B[0m\u001B[1;33m\u001B[0m\u001B[0m\n\u001B[1;32m-> 4859\u001B[1;33m                     \u001B[1;32mraise\u001B[0m \u001B[0mKeyError\u001B[0m\u001B[1;33m(\u001B[0m\u001B[1;33mf\"\u001B[0m\u001B[1;33m{\u001B[0m\u001B[0mlabels\u001B[0m\u001B[1;33m}\u001B[0m\u001B[1;33m not found in axis\u001B[0m\u001B[1;33m\"\u001B[0m\u001B[1;33m)\u001B[0m\u001B[1;33m\u001B[0m\u001B[1;33m\u001B[0m\u001B[0m\n\u001B[0m\u001B[0;32m   4860\u001B[0m \u001B[1;33m\u001B[0m\u001B[0m\n\u001B[0;32m   4861\u001B[0m             \u001B[1;32mif\u001B[0m \u001B[0misinstance\u001B[0m\u001B[1;33m(\u001B[0m\u001B[0mmask\u001B[0m\u001B[1;33m.\u001B[0m\u001B[0mdtype\u001B[0m\u001B[1;33m,\u001B[0m \u001B[0mExtensionDtype\u001B[0m\u001B[1;33m)\u001B[0m\u001B[1;33m:\u001B[0m\u001B[1;33m\u001B[0m\u001B[1;33m\u001B[0m\u001B[0m\n\u001B[0;32m   4862\u001B[0m                 \u001B[1;31m# GH#45860\u001B[0m\u001B[1;33m\u001B[0m\u001B[1;33m\u001B[0m\u001B[0m\n",
      "\u001B[1;31mKeyError\u001B[0m: \"['price_unit'] not found in axis\""
     ]
    }
   ],
   "source": [
    "data = data.drop(columns=['price_unit'])\n"
   ],
   "metadata": {
    "collapsed": false,
    "ExecuteTime": {
     "end_time": "2024-09-21T21:31:51.187376Z",
     "start_time": "2024-09-21T21:31:51.166509Z"
    }
   },
   "id": "1af9aa7e6681058c",
   "execution_count": 29
  },
  {
   "cell_type": "code",
   "outputs": [],
   "source": [
    "X = data.drop('price_absolute', axis=1)\n",
    "y = data['price_absolute']"
   ],
   "metadata": {
    "collapsed": false,
    "ExecuteTime": {
     "end_time": "2024-09-21T21:31:52.825143Z",
     "start_time": "2024-09-21T21:31:52.819553Z"
    }
   },
   "id": "f587bc7eff7a4388",
   "execution_count": 30
  },
  {
   "cell_type": "code",
   "outputs": [],
   "source": [
    "from sklearn.model_selection import train_test_split\n"
   ],
   "metadata": {
    "collapsed": false,
    "ExecuteTime": {
     "end_time": "2024-09-21T21:31:53.851444Z",
     "start_time": "2024-09-21T21:31:53.847324Z"
    }
   },
   "id": "9f974fe49a04b989",
   "execution_count": 31
  },
  {
   "cell_type": "code",
   "outputs": [],
   "source": [
    "X_train, X_test, y_train, y_test = train_test_split(X,y,test_size=0.3,random_state=101)\n"
   ],
   "metadata": {
    "collapsed": false,
    "ExecuteTime": {
     "end_time": "2024-09-21T21:31:54.190310Z",
     "start_time": "2024-09-21T21:31:54.184534Z"
    }
   },
   "id": "6c2382c6af38bbe4",
   "execution_count": 32
  },
  {
   "cell_type": "code",
   "outputs": [],
   "source": [
    "from sklearn.preprocessing import MinMaxScaler\n"
   ],
   "metadata": {
    "collapsed": false,
    "ExecuteTime": {
     "end_time": "2024-09-21T21:31:54.610754Z",
     "start_time": "2024-09-21T21:31:54.607255Z"
    }
   },
   "id": "41e50e7626e5fadb",
   "execution_count": 33
  },
  {
   "cell_type": "code",
   "outputs": [],
   "source": [
    "scaler = MinMaxScaler()\n"
   ],
   "metadata": {
    "collapsed": false,
    "ExecuteTime": {
     "end_time": "2024-09-21T21:31:55.072675Z",
     "start_time": "2024-09-21T21:31:55.068829Z"
    }
   },
   "id": "9a669e5ce5e98039",
   "execution_count": 34
  },
  {
   "cell_type": "code",
   "outputs": [
    {
     "data": {
      "text/plain": "     area  type  front  room  toilet  floor  Chung cư  Dòng tiền  Không rõ  \\\n297  48.0     1    4.3     6       6      8         0          0         0   \n323  62.0     1    4.0     5       0      5         0          0         0   \n459  45.0     1    4.0     4       1      4         0          0         0   \n209  95.0     1    6.0     3       2      1         1          1         0   \n143  83.0     1    7.7    10       0      5         1          0         0   \n\n     Kinh doanh  ...  street_truong cong giai  street_tt van cong mai dich  \\\n297           0  ...                    False                        False   \n323           1  ...                    False                        False   \n459           1  ...                    False                        False   \n209           0  ...                    False                        False   \n143           0  ...                    False                        False   \n\n     street_tt van hoa nghe thuat mai dich  street_tu mo  street_uong 800a  \\\n297                                  False         False              True   \n323                                  False         False             False   \n459                                  False         False             False   \n209                                  False         False             False   \n143                                  False         False             False   \n\n     street_vo chi cong  street_xuan thuy  street_xx cau giay  \\\n297               False             False               False   \n323               False             False               False   \n459               False             False               False   \n209               False             False               False   \n143               False             False               False   \n\n     street_xx tran thai tong  street_yen hoa  \n297                     False           False  \n323                     False           False  \n459                     False           False  \n209                     False           False  \n143                     False           False  \n\n[5 rows x 320 columns]",
      "text/html": "<div>\n<style scoped>\n    .dataframe tbody tr th:only-of-type {\n        vertical-align: middle;\n    }\n\n    .dataframe tbody tr th {\n        vertical-align: top;\n    }\n\n    .dataframe thead th {\n        text-align: right;\n    }\n</style>\n<table border=\"1\" class=\"dataframe\">\n  <thead>\n    <tr style=\"text-align: right;\">\n      <th></th>\n      <th>area</th>\n      <th>type</th>\n      <th>front</th>\n      <th>room</th>\n      <th>toilet</th>\n      <th>floor</th>\n      <th>Chung cư</th>\n      <th>Dòng tiền</th>\n      <th>Không rõ</th>\n      <th>Kinh doanh</th>\n      <th>...</th>\n      <th>street_truong cong giai</th>\n      <th>street_tt van cong mai dich</th>\n      <th>street_tt van hoa nghe thuat mai dich</th>\n      <th>street_tu mo</th>\n      <th>street_uong 800a</th>\n      <th>street_vo chi cong</th>\n      <th>street_xuan thuy</th>\n      <th>street_xx cau giay</th>\n      <th>street_xx tran thai tong</th>\n      <th>street_yen hoa</th>\n    </tr>\n  </thead>\n  <tbody>\n    <tr>\n      <th>297</th>\n      <td>48.0</td>\n      <td>1</td>\n      <td>4.3</td>\n      <td>6</td>\n      <td>6</td>\n      <td>8</td>\n      <td>0</td>\n      <td>0</td>\n      <td>0</td>\n      <td>0</td>\n      <td>...</td>\n      <td>False</td>\n      <td>False</td>\n      <td>False</td>\n      <td>False</td>\n      <td>True</td>\n      <td>False</td>\n      <td>False</td>\n      <td>False</td>\n      <td>False</td>\n      <td>False</td>\n    </tr>\n    <tr>\n      <th>323</th>\n      <td>62.0</td>\n      <td>1</td>\n      <td>4.0</td>\n      <td>5</td>\n      <td>0</td>\n      <td>5</td>\n      <td>0</td>\n      <td>0</td>\n      <td>0</td>\n      <td>1</td>\n      <td>...</td>\n      <td>False</td>\n      <td>False</td>\n      <td>False</td>\n      <td>False</td>\n      <td>False</td>\n      <td>False</td>\n      <td>False</td>\n      <td>False</td>\n      <td>False</td>\n      <td>False</td>\n    </tr>\n    <tr>\n      <th>459</th>\n      <td>45.0</td>\n      <td>1</td>\n      <td>4.0</td>\n      <td>4</td>\n      <td>1</td>\n      <td>4</td>\n      <td>0</td>\n      <td>0</td>\n      <td>0</td>\n      <td>1</td>\n      <td>...</td>\n      <td>False</td>\n      <td>False</td>\n      <td>False</td>\n      <td>False</td>\n      <td>False</td>\n      <td>False</td>\n      <td>False</td>\n      <td>False</td>\n      <td>False</td>\n      <td>False</td>\n    </tr>\n    <tr>\n      <th>209</th>\n      <td>95.0</td>\n      <td>1</td>\n      <td>6.0</td>\n      <td>3</td>\n      <td>2</td>\n      <td>1</td>\n      <td>1</td>\n      <td>1</td>\n      <td>0</td>\n      <td>0</td>\n      <td>...</td>\n      <td>False</td>\n      <td>False</td>\n      <td>False</td>\n      <td>False</td>\n      <td>False</td>\n      <td>False</td>\n      <td>False</td>\n      <td>False</td>\n      <td>False</td>\n      <td>False</td>\n    </tr>\n    <tr>\n      <th>143</th>\n      <td>83.0</td>\n      <td>1</td>\n      <td>7.7</td>\n      <td>10</td>\n      <td>0</td>\n      <td>5</td>\n      <td>1</td>\n      <td>0</td>\n      <td>0</td>\n      <td>0</td>\n      <td>...</td>\n      <td>False</td>\n      <td>False</td>\n      <td>False</td>\n      <td>False</td>\n      <td>False</td>\n      <td>False</td>\n      <td>False</td>\n      <td>False</td>\n      <td>False</td>\n      <td>False</td>\n    </tr>\n  </tbody>\n</table>\n<p>5 rows × 320 columns</p>\n</div>"
     },
     "execution_count": 35,
     "metadata": {},
     "output_type": "execute_result"
    }
   ],
   "source": [
    "X_train.head()\n"
   ],
   "metadata": {
    "collapsed": false,
    "ExecuteTime": {
     "end_time": "2024-09-21T21:31:55.540744Z",
     "start_time": "2024-09-21T21:31:55.522898Z"
    }
   },
   "id": "7b369deb50cebf60",
   "execution_count": 35
  },
  {
   "cell_type": "code",
   "outputs": [],
   "source": [
    "# Importing RFE and LinearRegression\n",
    "from sklearn.linear_model import LinearRegression\n",
    "from sklearn.linear_model import Ridge\n"
   ],
   "metadata": {
    "collapsed": false,
    "ExecuteTime": {
     "end_time": "2024-09-21T21:37:01.533730Z",
     "start_time": "2024-09-21T21:37:01.001642Z"
    }
   },
   "id": "3622753c028ae93b",
   "execution_count": 38
  },
  {
   "cell_type": "code",
   "outputs": [],
   "source": [],
   "metadata": {
    "collapsed": false
   },
   "id": "5430eb0818088fae"
  },
  {
   "cell_type": "code",
   "outputs": [
    {
     "data": {
      "text/plain": "LinearRegression()",
      "text/html": "<style>#sk-container-id-2 {\n  /* Definition of color scheme common for light and dark mode */\n  --sklearn-color-text: black;\n  --sklearn-color-line: gray;\n  /* Definition of color scheme for unfitted estimators */\n  --sklearn-color-unfitted-level-0: #fff5e6;\n  --sklearn-color-unfitted-level-1: #f6e4d2;\n  --sklearn-color-unfitted-level-2: #ffe0b3;\n  --sklearn-color-unfitted-level-3: chocolate;\n  /* Definition of color scheme for fitted estimators */\n  --sklearn-color-fitted-level-0: #f0f8ff;\n  --sklearn-color-fitted-level-1: #d4ebff;\n  --sklearn-color-fitted-level-2: #b3dbfd;\n  --sklearn-color-fitted-level-3: cornflowerblue;\n\n  /* Specific color for light theme */\n  --sklearn-color-text-on-default-background: var(--sg-text-color, var(--theme-code-foreground, var(--jp-content-font-color1, black)));\n  --sklearn-color-background: var(--sg-background-color, var(--theme-background, var(--jp-layout-color0, white)));\n  --sklearn-color-border-box: var(--sg-text-color, var(--theme-code-foreground, var(--jp-content-font-color1, black)));\n  --sklearn-color-icon: #696969;\n\n  @media (prefers-color-scheme: dark) {\n    /* Redefinition of color scheme for dark theme */\n    --sklearn-color-text-on-default-background: var(--sg-text-color, var(--theme-code-foreground, var(--jp-content-font-color1, white)));\n    --sklearn-color-background: var(--sg-background-color, var(--theme-background, var(--jp-layout-color0, #111)));\n    --sklearn-color-border-box: var(--sg-text-color, var(--theme-code-foreground, var(--jp-content-font-color1, white)));\n    --sklearn-color-icon: #878787;\n  }\n}\n\n#sk-container-id-2 {\n  color: var(--sklearn-color-text);\n}\n\n#sk-container-id-2 pre {\n  padding: 0;\n}\n\n#sk-container-id-2 input.sk-hidden--visually {\n  border: 0;\n  clip: rect(1px 1px 1px 1px);\n  clip: rect(1px, 1px, 1px, 1px);\n  height: 1px;\n  margin: -1px;\n  overflow: hidden;\n  padding: 0;\n  position: absolute;\n  width: 1px;\n}\n\n#sk-container-id-2 div.sk-dashed-wrapped {\n  border: 1px dashed var(--sklearn-color-line);\n  margin: 0 0.4em 0.5em 0.4em;\n  box-sizing: border-box;\n  padding-bottom: 0.4em;\n  background-color: var(--sklearn-color-background);\n}\n\n#sk-container-id-2 div.sk-container {\n  /* jupyter's `normalize.less` sets `[hidden] { display: none; }`\n     but bootstrap.min.css set `[hidden] { display: none !important; }`\n     so we also need the `!important` here to be able to override the\n     default hidden behavior on the sphinx rendered scikit-learn.org.\n     See: https://github.com/scikit-learn/scikit-learn/issues/21755 */\n  display: inline-block !important;\n  position: relative;\n}\n\n#sk-container-id-2 div.sk-text-repr-fallback {\n  display: none;\n}\n\ndiv.sk-parallel-item,\ndiv.sk-serial,\ndiv.sk-item {\n  /* draw centered vertical line to link estimators */\n  background-image: linear-gradient(var(--sklearn-color-text-on-default-background), var(--sklearn-color-text-on-default-background));\n  background-size: 2px 100%;\n  background-repeat: no-repeat;\n  background-position: center center;\n}\n\n/* Parallel-specific style estimator block */\n\n#sk-container-id-2 div.sk-parallel-item::after {\n  content: \"\";\n  width: 100%;\n  border-bottom: 2px solid var(--sklearn-color-text-on-default-background);\n  flex-grow: 1;\n}\n\n#sk-container-id-2 div.sk-parallel {\n  display: flex;\n  align-items: stretch;\n  justify-content: center;\n  background-color: var(--sklearn-color-background);\n  position: relative;\n}\n\n#sk-container-id-2 div.sk-parallel-item {\n  display: flex;\n  flex-direction: column;\n}\n\n#sk-container-id-2 div.sk-parallel-item:first-child::after {\n  align-self: flex-end;\n  width: 50%;\n}\n\n#sk-container-id-2 div.sk-parallel-item:last-child::after {\n  align-self: flex-start;\n  width: 50%;\n}\n\n#sk-container-id-2 div.sk-parallel-item:only-child::after {\n  width: 0;\n}\n\n/* Serial-specific style estimator block */\n\n#sk-container-id-2 div.sk-serial {\n  display: flex;\n  flex-direction: column;\n  align-items: center;\n  background-color: var(--sklearn-color-background);\n  padding-right: 1em;\n  padding-left: 1em;\n}\n\n\n/* Toggleable style: style used for estimator/Pipeline/ColumnTransformer box that is\nclickable and can be expanded/collapsed.\n- Pipeline and ColumnTransformer use this feature and define the default style\n- Estimators will overwrite some part of the style using the `sk-estimator` class\n*/\n\n/* Pipeline and ColumnTransformer style (default) */\n\n#sk-container-id-2 div.sk-toggleable {\n  /* Default theme specific background. It is overwritten whether we have a\n  specific estimator or a Pipeline/ColumnTransformer */\n  background-color: var(--sklearn-color-background);\n}\n\n/* Toggleable label */\n#sk-container-id-2 label.sk-toggleable__label {\n  cursor: pointer;\n  display: block;\n  width: 100%;\n  margin-bottom: 0;\n  padding: 0.5em;\n  box-sizing: border-box;\n  text-align: center;\n}\n\n#sk-container-id-2 label.sk-toggleable__label-arrow:before {\n  /* Arrow on the left of the label */\n  content: \"▸\";\n  float: left;\n  margin-right: 0.25em;\n  color: var(--sklearn-color-icon);\n}\n\n#sk-container-id-2 label.sk-toggleable__label-arrow:hover:before {\n  color: var(--sklearn-color-text);\n}\n\n/* Toggleable content - dropdown */\n\n#sk-container-id-2 div.sk-toggleable__content {\n  max-height: 0;\n  max-width: 0;\n  overflow: hidden;\n  text-align: left;\n  /* unfitted */\n  background-color: var(--sklearn-color-unfitted-level-0);\n}\n\n#sk-container-id-2 div.sk-toggleable__content.fitted {\n  /* fitted */\n  background-color: var(--sklearn-color-fitted-level-0);\n}\n\n#sk-container-id-2 div.sk-toggleable__content pre {\n  margin: 0.2em;\n  border-radius: 0.25em;\n  color: var(--sklearn-color-text);\n  /* unfitted */\n  background-color: var(--sklearn-color-unfitted-level-0);\n}\n\n#sk-container-id-2 div.sk-toggleable__content.fitted pre {\n  /* unfitted */\n  background-color: var(--sklearn-color-fitted-level-0);\n}\n\n#sk-container-id-2 input.sk-toggleable__control:checked~div.sk-toggleable__content {\n  /* Expand drop-down */\n  max-height: 200px;\n  max-width: 100%;\n  overflow: auto;\n}\n\n#sk-container-id-2 input.sk-toggleable__control:checked~label.sk-toggleable__label-arrow:before {\n  content: \"▾\";\n}\n\n/* Pipeline/ColumnTransformer-specific style */\n\n#sk-container-id-2 div.sk-label input.sk-toggleable__control:checked~label.sk-toggleable__label {\n  color: var(--sklearn-color-text);\n  background-color: var(--sklearn-color-unfitted-level-2);\n}\n\n#sk-container-id-2 div.sk-label.fitted input.sk-toggleable__control:checked~label.sk-toggleable__label {\n  background-color: var(--sklearn-color-fitted-level-2);\n}\n\n/* Estimator-specific style */\n\n/* Colorize estimator box */\n#sk-container-id-2 div.sk-estimator input.sk-toggleable__control:checked~label.sk-toggleable__label {\n  /* unfitted */\n  background-color: var(--sklearn-color-unfitted-level-2);\n}\n\n#sk-container-id-2 div.sk-estimator.fitted input.sk-toggleable__control:checked~label.sk-toggleable__label {\n  /* fitted */\n  background-color: var(--sklearn-color-fitted-level-2);\n}\n\n#sk-container-id-2 div.sk-label label.sk-toggleable__label,\n#sk-container-id-2 div.sk-label label {\n  /* The background is the default theme color */\n  color: var(--sklearn-color-text-on-default-background);\n}\n\n/* On hover, darken the color of the background */\n#sk-container-id-2 div.sk-label:hover label.sk-toggleable__label {\n  color: var(--sklearn-color-text);\n  background-color: var(--sklearn-color-unfitted-level-2);\n}\n\n/* Label box, darken color on hover, fitted */\n#sk-container-id-2 div.sk-label.fitted:hover label.sk-toggleable__label.fitted {\n  color: var(--sklearn-color-text);\n  background-color: var(--sklearn-color-fitted-level-2);\n}\n\n/* Estimator label */\n\n#sk-container-id-2 div.sk-label label {\n  font-family: monospace;\n  font-weight: bold;\n  display: inline-block;\n  line-height: 1.2em;\n}\n\n#sk-container-id-2 div.sk-label-container {\n  text-align: center;\n}\n\n/* Estimator-specific */\n#sk-container-id-2 div.sk-estimator {\n  font-family: monospace;\n  border: 1px dotted var(--sklearn-color-border-box);\n  border-radius: 0.25em;\n  box-sizing: border-box;\n  margin-bottom: 0.5em;\n  /* unfitted */\n  background-color: var(--sklearn-color-unfitted-level-0);\n}\n\n#sk-container-id-2 div.sk-estimator.fitted {\n  /* fitted */\n  background-color: var(--sklearn-color-fitted-level-0);\n}\n\n/* on hover */\n#sk-container-id-2 div.sk-estimator:hover {\n  /* unfitted */\n  background-color: var(--sklearn-color-unfitted-level-2);\n}\n\n#sk-container-id-2 div.sk-estimator.fitted:hover {\n  /* fitted */\n  background-color: var(--sklearn-color-fitted-level-2);\n}\n\n/* Specification for estimator info (e.g. \"i\" and \"?\") */\n\n/* Common style for \"i\" and \"?\" */\n\n.sk-estimator-doc-link,\na:link.sk-estimator-doc-link,\na:visited.sk-estimator-doc-link {\n  float: right;\n  font-size: smaller;\n  line-height: 1em;\n  font-family: monospace;\n  background-color: var(--sklearn-color-background);\n  border-radius: 1em;\n  height: 1em;\n  width: 1em;\n  text-decoration: none !important;\n  margin-left: 1ex;\n  /* unfitted */\n  border: var(--sklearn-color-unfitted-level-1) 1pt solid;\n  color: var(--sklearn-color-unfitted-level-1);\n}\n\n.sk-estimator-doc-link.fitted,\na:link.sk-estimator-doc-link.fitted,\na:visited.sk-estimator-doc-link.fitted {\n  /* fitted */\n  border: var(--sklearn-color-fitted-level-1) 1pt solid;\n  color: var(--sklearn-color-fitted-level-1);\n}\n\n/* On hover */\ndiv.sk-estimator:hover .sk-estimator-doc-link:hover,\n.sk-estimator-doc-link:hover,\ndiv.sk-label-container:hover .sk-estimator-doc-link:hover,\n.sk-estimator-doc-link:hover {\n  /* unfitted */\n  background-color: var(--sklearn-color-unfitted-level-3);\n  color: var(--sklearn-color-background);\n  text-decoration: none;\n}\n\ndiv.sk-estimator.fitted:hover .sk-estimator-doc-link.fitted:hover,\n.sk-estimator-doc-link.fitted:hover,\ndiv.sk-label-container:hover .sk-estimator-doc-link.fitted:hover,\n.sk-estimator-doc-link.fitted:hover {\n  /* fitted */\n  background-color: var(--sklearn-color-fitted-level-3);\n  color: var(--sklearn-color-background);\n  text-decoration: none;\n}\n\n/* Span, style for the box shown on hovering the info icon */\n.sk-estimator-doc-link span {\n  display: none;\n  z-index: 9999;\n  position: relative;\n  font-weight: normal;\n  right: .2ex;\n  padding: .5ex;\n  margin: .5ex;\n  width: min-content;\n  min-width: 20ex;\n  max-width: 50ex;\n  color: var(--sklearn-color-text);\n  box-shadow: 2pt 2pt 4pt #999;\n  /* unfitted */\n  background: var(--sklearn-color-unfitted-level-0);\n  border: .5pt solid var(--sklearn-color-unfitted-level-3);\n}\n\n.sk-estimator-doc-link.fitted span {\n  /* fitted */\n  background: var(--sklearn-color-fitted-level-0);\n  border: var(--sklearn-color-fitted-level-3);\n}\n\n.sk-estimator-doc-link:hover span {\n  display: block;\n}\n\n/* \"?\"-specific style due to the `<a>` HTML tag */\n\n#sk-container-id-2 a.estimator_doc_link {\n  float: right;\n  font-size: 1rem;\n  line-height: 1em;\n  font-family: monospace;\n  background-color: var(--sklearn-color-background);\n  border-radius: 1rem;\n  height: 1rem;\n  width: 1rem;\n  text-decoration: none;\n  /* unfitted */\n  color: var(--sklearn-color-unfitted-level-1);\n  border: var(--sklearn-color-unfitted-level-1) 1pt solid;\n}\n\n#sk-container-id-2 a.estimator_doc_link.fitted {\n  /* fitted */\n  border: var(--sklearn-color-fitted-level-1) 1pt solid;\n  color: var(--sklearn-color-fitted-level-1);\n}\n\n/* On hover */\n#sk-container-id-2 a.estimator_doc_link:hover {\n  /* unfitted */\n  background-color: var(--sklearn-color-unfitted-level-3);\n  color: var(--sklearn-color-background);\n  text-decoration: none;\n}\n\n#sk-container-id-2 a.estimator_doc_link.fitted:hover {\n  /* fitted */\n  background-color: var(--sklearn-color-fitted-level-3);\n}\n</style><div id=\"sk-container-id-2\" class=\"sk-top-container\"><div class=\"sk-text-repr-fallback\"><pre>LinearRegression()</pre><b>In a Jupyter environment, please rerun this cell to show the HTML representation or trust the notebook. <br />On GitHub, the HTML representation is unable to render, please try loading this page with nbviewer.org.</b></div><div class=\"sk-container\" hidden><div class=\"sk-item\"><div class=\"sk-estimator fitted sk-toggleable\"><input class=\"sk-toggleable__control sk-hidden--visually\" id=\"sk-estimator-id-2\" type=\"checkbox\" checked><label for=\"sk-estimator-id-2\" class=\"sk-toggleable__label fitted sk-toggleable__label-arrow fitted\">&nbsp;&nbsp;LinearRegression<a class=\"sk-estimator-doc-link fitted\" rel=\"noreferrer\" target=\"_blank\" href=\"https://scikit-learn.org/1.5/modules/generated/sklearn.linear_model.LinearRegression.html\">?<span>Documentation for LinearRegression</span></a><span class=\"sk-estimator-doc-link fitted\">i<span>Fitted</span></span></label><div class=\"sk-toggleable__content fitted\"><pre>LinearRegression()</pre></div> </div></div></div></div>"
     },
     "execution_count": 51,
     "metadata": {},
     "output_type": "execute_result"
    }
   ],
   "source": [
    "lm = LinearRegression()\n",
    "lm.fit(X_train, y_train)"
   ],
   "metadata": {
    "collapsed": false,
    "ExecuteTime": {
     "end_time": "2024-09-21T22:07:58.624202Z",
     "start_time": "2024-09-21T22:07:58.576806Z"
    }
   },
   "id": "1981975da532a114",
   "execution_count": 51
  },
  {
   "cell_type": "code",
   "outputs": [],
   "source": [
    "# Dự đoán trên tập huấn luyện và tập kiểm tra\n",
    "y_train_pred = lm.predict(X_train)\n",
    "y_test_pred = lm.predict(X_test)"
   ],
   "metadata": {
    "collapsed": false,
    "ExecuteTime": {
     "end_time": "2024-09-21T22:07:59.442585Z",
     "start_time": "2024-09-21T22:07:59.432124Z"
    }
   },
   "id": "8c4254cbcb1849e9",
   "execution_count": 52
  },
  {
   "cell_type": "code",
   "outputs": [],
   "source": [
    "# Tính toán loss (mean squared error) cho tập huấn luyện và tập kiểm tra\n",
    "train_loss = mean_squared_error(y_train, y_train_pred)\n",
    "test_loss = mean_squared_error(y_test, y_test_pred)"
   ],
   "metadata": {
    "collapsed": false,
    "ExecuteTime": {
     "end_time": "2024-09-21T22:08:03.678059Z",
     "start_time": "2024-09-21T22:08:03.671868Z"
    }
   },
   "id": "800777378d64f80e",
   "execution_count": 53
  },
  {
   "cell_type": "code",
   "outputs": [
    {
     "data": {
      "text/plain": "<Figure size 800x600 with 1 Axes>",
      "image/png": "[encoded data removed]"
     },
     "metadata": {},
     "output_type": "display_data"
    }
   ],
   "source": [
    "from matplotlib import pyplot as plt\n",
    "\n",
    "# Vẽ biểu đồ thể hiện train_loss và test_loss để kiểm tra overfitting\n",
    "plt.figure(figsize=(8, 6))\n",
    "plt.bar(['Training Loss', 'Validation Loss'], [train_loss, test_loss], color=['blue', 'orange'])\n",
    "plt.title('Training vs Validation Loss')\n",
    "plt.ylabel('Mean Squared Error (MSE)')\n",
    "plt.show()"
   ],
   "metadata": {
    "collapsed": false,
    "ExecuteTime": {
     "end_time": "2024-09-21T22:25:05.620390Z",
     "start_time": "2024-09-21T22:25:05.513993Z"
    }
   },
   "id": "71bbf55d4dda6af7",
   "execution_count": 57
  },
  {
   "cell_type": "code",
   "outputs": [
    {
     "data": {
      "text/plain": "<Figure size 800x600 with 1 Axes>",
      "image/png": "[encoded data removed]"
     },
     "metadata": {},
     "output_type": "display_data"
    }
   ],
   "source": [
    "# Kiểm tra độ chính xác của dự đoán bằng biểu đồ scatter plot giữa giá trị thực và giá trị dự đoán\n",
    "plt.figure(figsize=(8, 6))\n",
    "plt.scatter(y_test, y_test_pred, color='red', label='Predicted vs Actual')\n",
    "plt.plot([min(y_test), max(y_test)], [min(y_test), max(y_test)], color='blue', linestyle='--', label='Ideal Fit')\n",
    "plt.xlabel('Actual Values')\n",
    "plt.ylabel('Predicted Values')\n",
    "plt.title('Actual vs Predicted Values (Test Set)')\n",
    "plt.legend()\n",
    "plt.show()"
   ],
   "metadata": {
    "collapsed": false,
    "ExecuteTime": {
     "end_time": "2024-09-21T22:08:29.754560Z",
     "start_time": "2024-09-21T22:08:29.596692Z"
    }
   },
   "id": "f6a6eff552d0bcf5",
   "execution_count": 55
  },
  {
   "cell_type": "code",
   "outputs": [],
   "source": [],
   "metadata": {
    "collapsed": false
   },
   "id": "e74f23f2052542aa"
  }
 ],
 "metadata": {
  "kernelspec": {
   "display_name": "Python 3",
   "language": "python",
   "name": "python3"
  },
  "language_info": {
   "codemirror_mode": {
    "name": "ipython",
    "version": 2
   },
   "file_extension": ".py",
   "mimetype": "text/x-python",
   "name": "python",
   "nbconvert_exporter": "python",
   "pygments_lexer": "ipython2",
   "version": "2.7.6"
  }
 },
 "nbformat": 4,
 "nbformat_minor": 5
}
